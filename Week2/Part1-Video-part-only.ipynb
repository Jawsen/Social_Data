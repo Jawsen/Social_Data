{
 "cells": [
  {
   "cell_type": "markdown",
   "metadata": {},
   "source": [
    "# Questions based on the video Data Visualization.\n",
    "\n",
    "- **What is the difference between data and metadata? How does that relate to the GPS tracks-example?**\n",
    "\n",
    "    - The difference between data and metadata is that the data would be the actual \n",
    "    information collected so based on the GPS track-example the data would be the GPS \n",
    "    tracks showing the exact path taken while metadata data that provides information about other data so basically the date, time, device used, how they were record, or any description related to the GPS tracks.\n",
    "    \n",
    "- **Sune says that the human eye is a great tool for data analysis. Do you agree? Explain why/why not. Mention something that the human eye is very good at. Can you think of something that is difficult for the human eye. Explain why your example is difficult.**\n",
    "\n",
    "    - We agree with the conclusion on the human eye is a great tool for data analysis. The human eye is very good at spotting patterns, trends, and irregularities, which helps when analyzing visual data like maps or graphs. However, it struggles when it comes to accurately estimating quantities when there are large amounts of data. This is because our brains are not naturally designed to count or measure with precision just by looking, especially if the data is complex or if there are too many points at once.\n",
    "\n",
    "- **Simpson's paradox is hard to explain. Come up with your own example - or find one on line.**\n",
    "    \n",
    "    - Imagine we have 2 hospitals. Hospital A & Hospital B. In Hospital A, 90% of severely ill patients survive, and 95% of mildly ill patients survive. While in Hospital B, 85% of severely ill patients survive, and 90% of mildly ill patients survive. Based on this Hospital A looks like the better / safer hospital. However what if we look on the overall survival rate, Hospital B might actually has a higher survival rate than Hospital A. This is because Hospital B might treat way more mildly ill patients (who have high survival rates) than severely ill ones. Meanwhile, Hospital A treats more severely ill patients, which drags down its overall average survival rate.\n",
    "\n",
    "- **In your own words, explain the differnece between exploratory and explanatory data analysis.**\n",
    " \n",
    "    - Exploratory data analysis, is when you explore the data, trying to understand its pattern, trends and possible connections. We are in the starting phase where the unknown is getting explored and researched, questions are being ask and ideas are forming. While Explanatory data analysis is when we already have a great understanding of the data as it has already been explored and test. We are in a phase where the research is completed and ready to be explained and presentet to others in a clear and structered way. "
   ]
  }
 ],
 "metadata": {
  "language_info": {
   "name": "python"
  }
 },
 "nbformat": 4,
 "nbformat_minor": 2
}
