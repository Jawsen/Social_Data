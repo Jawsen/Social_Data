{
 "cells": [
  {
   "cell_type": "markdown",
   "metadata": {},
   "source": [
    "# **Part 2: Interactive visualizations with Bokeh**\n",
    "\n",
    "### **Exercise: Recreate a new version of the results from Week 2 (with updated dates) as an interactive visualisation (shown in the gif). To complete the exercise, follow the steps below to create your own version of the dataviz.**"
   ]
  },
  {
   "cell_type": "markdown",
   "metadata": {},
   "source": [
    "### Data prep"
   ]
  },
  {
   "cell_type": "code",
   "execution_count": 120,
   "metadata": {},
   "outputs": [
    {
     "data": {
      "text/html": [
       "<div>\n",
       "<style scoped>\n",
       "    .dataframe tbody tr th:only-of-type {\n",
       "        vertical-align: middle;\n",
       "    }\n",
       "\n",
       "    .dataframe tbody tr th {\n",
       "        vertical-align: top;\n",
       "    }\n",
       "\n",
       "    .dataframe thead th {\n",
       "        text-align: right;\n",
       "    }\n",
       "</style>\n",
       "<table border=\"1\" class=\"dataframe\">\n",
       "  <thead>\n",
       "    <tr style=\"text-align: right;\">\n",
       "      <th>Incident Category</th>\n",
       "      <th>ASSAULT</th>\n",
       "      <th>BURGLARY</th>\n",
       "      <th>DRUG/NARCOTIC</th>\n",
       "      <th>LARCENY/THEFT</th>\n",
       "      <th>PROSTITUTION</th>\n",
       "      <th>ROBBERY</th>\n",
       "      <th>STOLEN PROPERTY</th>\n",
       "      <th>VANDALISM</th>\n",
       "      <th>VEHICLE THEFT</th>\n",
       "      <th>WEAPON LAWS</th>\n",
       "    </tr>\n",
       "    <tr>\n",
       "      <th>Hour</th>\n",
       "      <th></th>\n",
       "      <th></th>\n",
       "      <th></th>\n",
       "      <th></th>\n",
       "      <th></th>\n",
       "      <th></th>\n",
       "      <th></th>\n",
       "      <th></th>\n",
       "      <th></th>\n",
       "      <th></th>\n",
       "    </tr>\n",
       "  </thead>\n",
       "  <tbody>\n",
       "    <tr>\n",
       "      <th>0</th>\n",
       "      <td>0.050554</td>\n",
       "      <td>0.054347</td>\n",
       "      <td>0.032283</td>\n",
       "      <td>0.043302</td>\n",
       "      <td>0.106449</td>\n",
       "      <td>0.047013</td>\n",
       "      <td>0.047853</td>\n",
       "      <td>0.054022</td>\n",
       "      <td>0.039672</td>\n",
       "      <td>0.053834</td>\n",
       "    </tr>\n",
       "    <tr>\n",
       "      <th>1</th>\n",
       "      <td>0.043975</td>\n",
       "      <td>0.036507</td>\n",
       "      <td>0.019766</td>\n",
       "      <td>0.023869</td>\n",
       "      <td>0.064103</td>\n",
       "      <td>0.047767</td>\n",
       "      <td>0.027830</td>\n",
       "      <td>0.034026</td>\n",
       "      <td>0.022168</td>\n",
       "      <td>0.041225</td>\n",
       "    </tr>\n",
       "    <tr>\n",
       "      <th>2</th>\n",
       "      <td>0.037867</td>\n",
       "      <td>0.047186</td>\n",
       "      <td>0.017192</td>\n",
       "      <td>0.015882</td>\n",
       "      <td>0.052059</td>\n",
       "      <td>0.045537</td>\n",
       "      <td>0.027830</td>\n",
       "      <td>0.031693</td>\n",
       "      <td>0.018340</td>\n",
       "      <td>0.035647</td>\n",
       "    </tr>\n",
       "    <tr>\n",
       "      <th>3</th>\n",
       "      <td>0.021019</td>\n",
       "      <td>0.056375</td>\n",
       "      <td>0.013493</td>\n",
       "      <td>0.012271</td>\n",
       "      <td>0.037685</td>\n",
       "      <td>0.028298</td>\n",
       "      <td>0.022541</td>\n",
       "      <td>0.027979</td>\n",
       "      <td>0.014722</td>\n",
       "      <td>0.027402</td>\n",
       "    </tr>\n",
       "    <tr>\n",
       "      <th>4</th>\n",
       "      <td>0.015047</td>\n",
       "      <td>0.055920</td>\n",
       "      <td>0.008670</td>\n",
       "      <td>0.009108</td>\n",
       "      <td>0.017483</td>\n",
       "      <td>0.019619</td>\n",
       "      <td>0.020904</td>\n",
       "      <td>0.022632</td>\n",
       "      <td>0.012083</td>\n",
       "      <td>0.019036</td>\n",
       "    </tr>\n",
       "  </tbody>\n",
       "</table>\n",
       "</div>"
      ],
      "text/plain": [
       "Incident Category   ASSAULT  BURGLARY  DRUG/NARCOTIC  LARCENY/THEFT  \\\n",
       "Hour                                                                  \n",
       "0                  0.050554  0.054347       0.032283       0.043302   \n",
       "1                  0.043975  0.036507       0.019766       0.023869   \n",
       "2                  0.037867  0.047186       0.017192       0.015882   \n",
       "3                  0.021019  0.056375       0.013493       0.012271   \n",
       "4                  0.015047  0.055920       0.008670       0.009108   \n",
       "\n",
       "Incident Category  PROSTITUTION   ROBBERY  STOLEN PROPERTY  VANDALISM  \\\n",
       "Hour                                                                    \n",
       "0                      0.106449  0.047013         0.047853   0.054022   \n",
       "1                      0.064103  0.047767         0.027830   0.034026   \n",
       "2                      0.052059  0.045537         0.027830   0.031693   \n",
       "3                      0.037685  0.028298         0.022541   0.027979   \n",
       "4                      0.017483  0.019619         0.020904   0.022632   \n",
       "\n",
       "Incident Category  VEHICLE THEFT  WEAPON LAWS  \n",
       "Hour                                           \n",
       "0                       0.039672     0.053834  \n",
       "1                       0.022168     0.041225  \n",
       "2                       0.018340     0.035647  \n",
       "3                       0.014722     0.027402  \n",
       "4                       0.012083     0.019036  "
      ]
     },
     "execution_count": 120,
     "metadata": {},
     "output_type": "execute_result"
    }
   ],
   "source": [
    "import pandas as pd\n",
    "\n",
    "# Load the dataset\n",
    "df = pd.read_csv('../Assignment-1/Data/SF_Crime_Data_Focus_Cleaned.csv', parse_dates=[\"Incident Date\"])\n",
    "\n",
    "# 🔹 Filter data for the period 2014-2024\n",
    "df = df[(df[\"Incident Date\"].dt.year >= 2014) & (df[\"Incident Date\"].dt.year <= 2024)]\n",
    "\n",
    "# 🔹 Select only the 10 focus crimes\n",
    "focus_crimes = [\"ASSAULT\", \"BURGLARY\", \"DRUG/NARCOTIC\", \"LARCENY/THEFT\", \"PROSTITUTION\", \n",
    "                \"ROBBERY\", \"STOLEN PROPERTY\", \"VANDALISM\", \"VEHICLE THEFT\", \"WEAPON LAWS\"]\n",
    "df = df[df[\"Incident Category\"].isin(focus_crimes)]\n",
    "\n",
    "# 🔹 Group by hour of the day and crime category, then count occurrences\n",
    "crime_hourly = df.groupby([\"Incident Time\", \"Incident Category\"]).size().reset_index(name=\"Crime Count\")\n",
    "\n",
    "# 🔹 Normalize data: Divide each count by the total count of that crime category\n",
    "crime_hourly[\"Normalized Count\"] = crime_hourly.groupby(\"Incident Category\")[\"Crime Count\"].transform(lambda x: x / x.sum())\n",
    "\n",
    "# 🔹 Reshape the data into the required format\n",
    "crime_pivot = crime_hourly.pivot(index=\"Incident Time\", columns=\"Incident Category\", values=\"Normalized Count\").fillna(0)\n",
    "\n",
    "# 🔹 Rename index to match the \"Hour\" column in the screenshot\n",
    "crime_pivot.index.name = \"Hour\"\n",
    "\n",
    "# Display the final DataFrame\n",
    "crime_pivot.head()\n"
   ]
  },
  {
   "cell_type": "markdown",
   "metadata": {},
   "source": [
    "## Step 1: Convert Data for Bokeh"
   ]
  },
  {
   "cell_type": "code",
   "execution_count": 121,
   "metadata": {},
   "outputs": [
    {
     "data": {
      "text/html": [
       "    <style>\n",
       "        .bk-notebook-logo {\n",
       "            display: block;\n",
       "            width: 20px;\n",
       "            height: 20px;\n",
       "            background-image: url(data:image/png;base64,iVBORw0KGgoAAAANSUhEUgAAABQAAAAUCAYAAACNiR0NAAAABHNCSVQICAgIfAhkiAAAAAlwSFlzAAALEgAACxIB0t1+/AAAABx0RVh0U29mdHdhcmUAQWRvYmUgRmlyZXdvcmtzIENTNui8sowAAAOkSURBVDiNjZRtaJVlGMd/1/08zzln5zjP1LWcU9N0NkN8m2CYjpgQYQXqSs0I84OLIC0hkEKoPtiH3gmKoiJDU7QpLgoLjLIQCpEsNJ1vqUOdO7ppbuec5+V+rj4ctwzd8IIbbi6u+8f1539dt3A78eXC7QizUF7gyV1fD1Yqg4JWz84yffhm0qkFqBogB9rM8tZdtwVsPUhWhGcFJngGeWrPzHm5oaMmkfEg1usvLFyc8jLRqDOMru7AyC8saQr7GG7f5fvDeH7Ej8CM66nIF+8yngt6HWaKh7k49Soy9nXurCi1o3qUbS3zWfrYeQDTB/Qj6kX6Ybhw4B+bOYoLKCC9H3Nu/leUTZ1JdRWkkn2ldcCamzrcf47KKXdAJllSlxAOkRgyHsGC/zRday5Qld9DyoM4/q/rUoy/CXh3jzOu3bHUVZeU+DEn8FInkPBFlu3+nW3Nw0mk6vCDiWg8CeJaxEwuHS3+z5RgY+YBR6V1Z1nxSOfoaPa4LASWxxdNp+VWTk7+4vzaou8v8PN+xo+KY2xsw6une2frhw05CTYOmQvsEhjhWjn0bmXPjpE1+kplmmkP3suftwTubK9Vq22qKmrBhpY4jvd5afdRA3wGjFAgcnTK2s4hY0/GPNIb0nErGMCRxWOOX64Z8RAC4oCXdklmEvcL8o0BfkNK4lUg9HTl+oPlQxdNo3Mg4Nv175e/1LDGzZen30MEjRUtmXSfiTVu1kK8W4txyV6BMKlbgk3lMwYCiusNy9fVfvvwMxv8Ynl6vxoByANLTWplvuj/nF9m2+PDtt1eiHPBr1oIfhCChQMBw6Aw0UulqTKZdfVvfG7VcfIqLG9bcldL/+pdWTLxLUy8Qq38heUIjh4XlzZxzQm19lLFlr8vdQ97rjZVOLf8nclzckbcD4wxXMidpX30sFd37Fv/GtwwhzhxGVAprjbg0gCAEeIgwCZyTV2Z1REEW8O4py0wsjeloKoMr6iCY6dP92H6Vw/oTyICIthibxjm/DfN9lVz8IqtqKYLUXfoKVMVQVVJOElGjrnnUt9T9wbgp8AyYKaGlqingHZU/uG2NTZSVqwHQTWkx9hxjkpWDaCg6Ckj5qebgBVbT3V3NNXMSiWSDdGV3hrtzla7J+duwPOToIg42ChPQOQjspnSlp1V+Gjdged7+8UN5CRAV7a5EdFNwCjEaBR27b3W890TE7g24NAP/mMDXRWrGoFPQI9ls/MWO2dWFAar/xcOIImbbpA3zgAAAABJRU5ErkJggg==);\n",
       "        }\n",
       "    </style>\n",
       "    <div>\n",
       "        <a href=\"https://bokeh.org\" target=\"_blank\" class=\"bk-notebook-logo\"></a>\n",
       "        <span id=\"c9600bc5-8ab6-460a-9b9d-0888fa8b47f9\">Loading BokehJS ...</span>\n",
       "    </div>\n"
      ]
     },
     "metadata": {},
     "output_type": "display_data"
    },
    {
     "data": {
      "application/javascript": "'use strict';\n(function(root) {\n  function now() {\n    return new Date();\n  }\n\n  const force = true;\n\n  if (typeof root._bokeh_onload_callbacks === \"undefined\" || force === true) {\n    root._bokeh_onload_callbacks = [];\n    root._bokeh_is_loading = undefined;\n  }\n\nconst JS_MIME_TYPE = 'application/javascript';\n  const HTML_MIME_TYPE = 'text/html';\n  const EXEC_MIME_TYPE = 'application/vnd.bokehjs_exec.v0+json';\n  const CLASS_NAME = 'output_bokeh rendered_html';\n\n  /**\n   * Render data to the DOM node\n   */\n  function render(props, node) {\n    const script = document.createElement(\"script\");\n    node.appendChild(script);\n  }\n\n  /**\n   * Handle when an output is cleared or removed\n   */\n  function handleClearOutput(event, handle) {\n    function drop(id) {\n      const view = Bokeh.index.get_by_id(id)\n      if (view != null) {\n        view.model.document.clear()\n        Bokeh.index.delete(view)\n      }\n    }\n\n    const cell = handle.cell;\n\n    const id = cell.output_area._bokeh_element_id;\n    const server_id = cell.output_area._bokeh_server_id;\n\n    // Clean up Bokeh references\n    if (id != null) {\n      drop(id)\n    }\n\n    if (server_id !== undefined) {\n      // Clean up Bokeh references\n      const cmd_clean = \"from bokeh.io.state import curstate; print(curstate().uuid_to_server['\" + server_id + \"'].get_sessions()[0].document.roots[0]._id)\";\n      cell.notebook.kernel.execute(cmd_clean, {\n        iopub: {\n          output: function(msg) {\n            const id = msg.content.text.trim()\n            drop(id)\n          }\n        }\n      });\n      // Destroy server and session\n      const cmd_destroy = \"import bokeh.io.notebook as ion; ion.destroy_server('\" + server_id + \"')\";\n      cell.notebook.kernel.execute(cmd_destroy);\n    }\n  }\n\n  /**\n   * Handle when a new output is added\n   */\n  function handleAddOutput(event, handle) {\n    const output_area = handle.output_area;\n    const output = handle.output;\n\n    // limit handleAddOutput to display_data with EXEC_MIME_TYPE content only\n    if ((output.output_type != \"display_data\") || (!Object.prototype.hasOwnProperty.call(output.data, EXEC_MIME_TYPE))) {\n      return\n    }\n\n    const toinsert = output_area.element.find(\".\" + CLASS_NAME.split(' ')[0]);\n\n    if (output.metadata[EXEC_MIME_TYPE][\"id\"] !== undefined) {\n      toinsert[toinsert.length - 1].firstChild.textContent = output.data[JS_MIME_TYPE];\n      // store reference to embed id on output_area\n      output_area._bokeh_element_id = output.metadata[EXEC_MIME_TYPE][\"id\"];\n    }\n    if (output.metadata[EXEC_MIME_TYPE][\"server_id\"] !== undefined) {\n      const bk_div = document.createElement(\"div\");\n      bk_div.innerHTML = output.data[HTML_MIME_TYPE];\n      const script_attrs = bk_div.children[0].attributes;\n      for (let i = 0; i < script_attrs.length; i++) {\n        toinsert[toinsert.length - 1].firstChild.setAttribute(script_attrs[i].name, script_attrs[i].value);\n        toinsert[toinsert.length - 1].firstChild.textContent = bk_div.children[0].textContent\n      }\n      // store reference to server id on output_area\n      output_area._bokeh_server_id = output.metadata[EXEC_MIME_TYPE][\"server_id\"];\n    }\n  }\n\n  function register_renderer(events, OutputArea) {\n\n    function append_mime(data, metadata, element) {\n      // create a DOM node to render to\n      const toinsert = this.create_output_subarea(\n        metadata,\n        CLASS_NAME,\n        EXEC_MIME_TYPE\n      );\n      this.keyboard_manager.register_events(toinsert);\n      // Render to node\n      const props = {data: data, metadata: metadata[EXEC_MIME_TYPE]};\n      render(props, toinsert[toinsert.length - 1]);\n      element.append(toinsert);\n      return toinsert\n    }\n\n    /* Handle when an output is cleared or removed */\n    events.on('clear_output.CodeCell', handleClearOutput);\n    events.on('delete.Cell', handleClearOutput);\n\n    /* Handle when a new output is added */\n    events.on('output_added.OutputArea', handleAddOutput);\n\n    /**\n     * Register the mime type and append_mime function with output_area\n     */\n    OutputArea.prototype.register_mime_type(EXEC_MIME_TYPE, append_mime, {\n      /* Is output safe? */\n      safe: true,\n      /* Index of renderer in `output_area.display_order` */\n      index: 0\n    });\n  }\n\n  // register the mime type if in Jupyter Notebook environment and previously unregistered\n  if (root.Jupyter !== undefined) {\n    const events = require('base/js/events');\n    const OutputArea = require('notebook/js/outputarea').OutputArea;\n\n    if (OutputArea.prototype.mime_types().indexOf(EXEC_MIME_TYPE) == -1) {\n      register_renderer(events, OutputArea);\n    }\n  }\n  if (typeof (root._bokeh_timeout) === \"undefined\" || force === true) {\n    root._bokeh_timeout = Date.now() + 5000;\n    root._bokeh_failed_load = false;\n  }\n\n  const NB_LOAD_WARNING = {'data': {'text/html':\n     \"<div style='background-color: #fdd'>\\n\"+\n     \"<p>\\n\"+\n     \"BokehJS does not appear to have successfully loaded. If loading BokehJS from CDN, this \\n\"+\n     \"may be due to a slow or bad network connection. Possible fixes:\\n\"+\n     \"</p>\\n\"+\n     \"<ul>\\n\"+\n     \"<li>re-rerun `output_notebook()` to attempt to load from CDN again, or</li>\\n\"+\n     \"<li>use INLINE resources instead, as so:</li>\\n\"+\n     \"</ul>\\n\"+\n     \"<code>\\n\"+\n     \"from bokeh.resources import INLINE\\n\"+\n     \"output_notebook(resources=INLINE)\\n\"+\n     \"</code>\\n\"+\n     \"</div>\"}};\n\n  function display_loaded(error = null) {\n    const el = document.getElementById(\"c9600bc5-8ab6-460a-9b9d-0888fa8b47f9\");\n    if (el != null) {\n      const html = (() => {\n        if (typeof root.Bokeh === \"undefined\") {\n          if (error == null) {\n            return \"BokehJS is loading ...\";\n          } else {\n            return \"BokehJS failed to load.\";\n          }\n        } else {\n          const prefix = `BokehJS ${root.Bokeh.version}`;\n          if (error == null) {\n            return `${prefix} successfully loaded.`;\n          } else {\n            return `${prefix} <b>encountered errors</b> while loading and may not function as expected.`;\n          }\n        }\n      })();\n      el.innerHTML = html;\n\n      if (error != null) {\n        const wrapper = document.createElement(\"div\");\n        wrapper.style.overflow = \"auto\";\n        wrapper.style.height = \"5em\";\n        wrapper.style.resize = \"vertical\";\n        const content = document.createElement(\"div\");\n        content.style.fontFamily = \"monospace\";\n        content.style.whiteSpace = \"pre-wrap\";\n        content.style.backgroundColor = \"rgb(255, 221, 221)\";\n        content.textContent = error.stack ?? error.toString();\n        wrapper.append(content);\n        el.append(wrapper);\n      }\n    } else if (Date.now() < root._bokeh_timeout) {\n      setTimeout(() => display_loaded(error), 100);\n    }\n  }\n\n  function run_callbacks() {\n    try {\n      root._bokeh_onload_callbacks.forEach(function(callback) {\n        if (callback != null)\n          callback();\n      });\n    } finally {\n      delete root._bokeh_onload_callbacks\n    }\n    console.debug(\"Bokeh: all callbacks have finished\");\n  }\n\n  function load_libs(css_urls, js_urls, callback) {\n    if (css_urls == null) css_urls = [];\n    if (js_urls == null) js_urls = [];\n\n    root._bokeh_onload_callbacks.push(callback);\n    if (root._bokeh_is_loading > 0) {\n      console.debug(\"Bokeh: BokehJS is being loaded, scheduling callback at\", now());\n      return null;\n    }\n    if (js_urls == null || js_urls.length === 0) {\n      run_callbacks();\n      return null;\n    }\n    console.debug(\"Bokeh: BokehJS not loaded, scheduling load and callback at\", now());\n    root._bokeh_is_loading = css_urls.length + js_urls.length;\n\n    function on_load() {\n      root._bokeh_is_loading--;\n      if (root._bokeh_is_loading === 0) {\n        console.debug(\"Bokeh: all BokehJS libraries/stylesheets loaded\");\n        run_callbacks()\n      }\n    }\n\n    function on_error(url) {\n      console.error(\"failed to load \" + url);\n    }\n\n    for (let i = 0; i < css_urls.length; i++) {\n      const url = css_urls[i];\n      const element = document.createElement(\"link\");\n      element.onload = on_load;\n      element.onerror = on_error.bind(null, url);\n      element.rel = \"stylesheet\";\n      element.type = \"text/css\";\n      element.href = url;\n      console.debug(\"Bokeh: injecting link tag for BokehJS stylesheet: \", url);\n      document.body.appendChild(element);\n    }\n\n    for (let i = 0; i < js_urls.length; i++) {\n      const url = js_urls[i];\n      const element = document.createElement('script');\n      element.onload = on_load;\n      element.onerror = on_error.bind(null, url);\n      element.async = false;\n      element.src = url;\n      console.debug(\"Bokeh: injecting script tag for BokehJS library: \", url);\n      document.head.appendChild(element);\n    }\n  };\n\n  function inject_raw_css(css) {\n    const element = document.createElement(\"style\");\n    element.appendChild(document.createTextNode(css));\n    document.body.appendChild(element);\n  }\n\n  const js_urls = [\"https://cdn.bokeh.org/bokeh/release/bokeh-3.7.0.min.js\", \"https://cdn.bokeh.org/bokeh/release/bokeh-gl-3.7.0.min.js\", \"https://cdn.bokeh.org/bokeh/release/bokeh-widgets-3.7.0.min.js\", \"https://cdn.bokeh.org/bokeh/release/bokeh-tables-3.7.0.min.js\", \"https://cdn.bokeh.org/bokeh/release/bokeh-mathjax-3.7.0.min.js\"];\n  const css_urls = [];\n\n  const inline_js = [    function(Bokeh) {\n      Bokeh.set_log_level(\"info\");\n    },\nfunction(Bokeh) {\n    }\n  ];\n\n  function run_inline_js() {\n    if (root.Bokeh !== undefined || force === true) {\n      try {\n            for (let i = 0; i < inline_js.length; i++) {\n      inline_js[i].call(root, root.Bokeh);\n    }\n\n      } catch (error) {display_loaded(error);throw error;\n      }if (force === true) {\n        display_loaded();\n      }} else if (Date.now() < root._bokeh_timeout) {\n      setTimeout(run_inline_js, 100);\n    } else if (!root._bokeh_failed_load) {\n      console.log(\"Bokeh: BokehJS failed to load within specified timeout.\");\n      root._bokeh_failed_load = true;\n    } else if (force !== true) {\n      const cell = $(document.getElementById(\"c9600bc5-8ab6-460a-9b9d-0888fa8b47f9\")).parents('.cell').data().cell;\n      cell.output_area.append_execute_result(NB_LOAD_WARNING)\n    }\n  }\n\n  if (root._bokeh_is_loading === 0) {\n    console.debug(\"Bokeh: BokehJS loaded, going straight to plotting\");\n    run_inline_js();\n  } else {\n    load_libs(css_urls, js_urls, function() {\n      console.debug(\"Bokeh: BokehJS plotting callback run at\", now());\n      run_inline_js();\n    });\n  }\n}(window));",
      "application/vnd.bokehjs_load.v0+json": ""
     },
     "metadata": {},
     "output_type": "display_data"
    }
   ],
   "source": [
    "from bokeh.models import ColumnDataSource\n",
    "from bokeh.palettes import Category10\n",
    "from bokeh.io import output_notebook\n",
    "\n",
    "# 🔹 Define colors (10 unique colors for 10 crimes)\n",
    "colors = Category10[10]\n",
    "color_map = {crime: colors[i] for i, crime in enumerate(focus_crimes)}\n",
    "\n",
    "source = ColumnDataSource(crime_pivot)\n",
    "output_notebook()  # Display plots inside Jupyter Notebook\n",
    "\n"
   ]
  },
  {
   "cell_type": "markdown",
   "metadata": {},
   "source": [
    "## Create Bokeh Figure"
   ]
  },
  {
   "cell_type": "code",
   "execution_count": 122,
   "metadata": {},
   "outputs": [],
   "source": [
    "from bokeh.plotting import figure, show\n",
    "from bokeh.models import FactorRange, HoverTool, Legend, LegendItem\n",
    "# 🔹 Define x-axis range (Hours 0-23 as categorical values)\n",
    "hours = [str(i) for i in range(24)]  # Convert hours to strings for FactorRange\n",
    "\n",
    "# 🔹 Define Colors\n",
    "colors = Category10[len(focus_crimes)]\n",
    "color_map = {crime: colors[i] for i, crime in enumerate(focus_crimes)}\n",
    "\n",
    "# 🔹 Create Bokeh Figure\n",
    "p = figure(\n",
    "    title=\"Hour-by-Hour Probabilities\", \n",
    "    x_range=FactorRange(*hours),  # Ensuring categorical x-axis\n",
    "    y_axis_label=\"Relative Frequency\", \n",
    "    x_axis_label=\"Hour of Day (0-23)\",\n",
    "    height=500, width=800,\n",
    "    tools=\"pan,wheel_zoom,box_zoom,reset\"\n",
    ")\n"
   ]
  },
  {
   "cell_type": "markdown",
   "metadata": {},
   "source": [
    "## Display plot "
   ]
  },
  {
   "cell_type": "code",
   "execution_count": 152,
   "metadata": {},
   "outputs": [
    {
     "data": {
      "text/html": [
       "\n",
       "  <div id=\"e781b406-626b-4b33-bc02-ece9f03f9af7\" data-root-id=\"p13084\" style=\"display: contents;\"></div>\n"
      ]
     },
     "metadata": {},
     "output_type": "display_data"
    },
    {
     "data": {
      "application/javascript": "(function(root) {\n  function embed_document(root) {\n  const docs_json = {\"8e6f9d61-524e-4cbf-b7ee-c4b0c9148895\":{\"version\":\"3.7.0\",\"title\":\"Bokeh Application\",\"roots\":[{\"type\":\"object\",\"name\":\"Figure\",\"id\":\"p13084\",\"attributes\":{\"width\":900,\"height\":500,\"x_range\":{\"type\":\"object\",\"name\":\"FactorRange\",\"id\":\"p13083\",\"attributes\":{\"factors\":[\"0\",\"1\",\"2\",\"3\",\"4\",\"5\",\"6\",\"7\",\"8\",\"9\",\"10\",\"11\",\"12\",\"13\",\"14\",\"15\",\"16\",\"17\",\"18\",\"19\",\"20\",\"21\",\"22\",\"23\"]}},\"y_range\":{\"type\":\"object\",\"name\":\"DataRange1d\",\"id\":\"p13086\"},\"x_scale\":{\"type\":\"object\",\"name\":\"CategoricalScale\",\"id\":\"p13094\"},\"y_scale\":{\"type\":\"object\",\"name\":\"LinearScale\",\"id\":\"p13095\"},\"title\":{\"type\":\"object\",\"name\":\"Title\",\"id\":\"p13087\",\"attributes\":{\"text\":\"Hour-by-Hour Probabilities\"}},\"renderers\":[{\"type\":\"object\",\"name\":\"GlyphRenderer\",\"id\":\"p13124\",\"attributes\":{\"data_source\":{\"type\":\"object\",\"name\":\"ColumnDataSource\",\"id\":\"p9503\",\"attributes\":{\"selected\":{\"type\":\"object\",\"name\":\"Selection\",\"id\":\"p9504\",\"attributes\":{\"indices\":[],\"line_indices\":[]}},\"selection_policy\":{\"type\":\"object\",\"name\":\"UnionRenderers\",\"id\":\"p9505\"},\"data\":{\"type\":\"map\",\"entries\":[[\"Hour\",{\"type\":\"ndarray\",\"array\":{\"type\":\"bytes\",\"data\":\"AAAAAAEAAAACAAAAAwAAAAQAAAAFAAAABgAAAAcAAAAIAAAACQAAAAoAAAALAAAADAAAAA0AAAAOAAAADwAAABAAAAARAAAAEgAAABMAAAAUAAAAFQAAABYAAAAXAAAA\"},\"shape\":[24],\"dtype\":\"int32\",\"order\":\"little\"}],[\"ASSAULT\",{\"type\":\"ndarray\",\"array\":{\"type\":\"bytes\",\"data\":\"mYz3CjriqT/RyVzY8YOmP4Y5FhdBY6M/knnhJOGFlT+GlzWe2tCOPwFrztH/kYw/oBkEJ8wzkT+hJ08oC2eZP166obuj86A/bkAlfKA3oz/OW7riZ8WkP8+6dSDaQac/y9gGlW4pqz/NvwMKWc6oP/LQ1W9sf6k/Yl559ZmCrD9IVqGi4RStP6bvHnKIFaw/qiFig05oqz9Ob+EokgyqP6r5d0Ahy6k/CwGYBVKKqj8Xur2SUpOoP/+sV1Ybmac/\"},\"shape\":[24],\"dtype\":\"float64\",\"order\":\"little\"}],[\"BURGLARY\",{\"type\":\"ndarray\",\"array\":{\"type\":\"bytes\",\"data\":\"OL3ENVfTqz+TujfiD7GiPx9dnSnGKKg/XbkAbS3drD+olePyf6GsP2NlQbMf76U/ynPOszvnmz9ZWFXD53GZPyR6tTSrWKA/8xyEnDmXnz8KeX1En6SgP0P7IrBM0J4/XmOFJV96pj//uJjHfvacP+zBV860tqA/KNtg3vDDoz/QyswdlSqoPxciNKjGNK4/hNwB79Q+rT8fXZ0pxiioP51g+UxBOKc/bNEcv9xipj+IYX3q9fimP0X66UQXPKU/\"},\"shape\":[24],\"dtype\":\"float64\",\"order\":\"little\"}],[\"DRUG/NARCOTIC\",{\"type\":\"ndarray\",\"array\":{\"type\":\"bytes\",\"data\":\"GRaJxWGHoD9famLAmT2UPwkMmVzAmpE/w3u68keiiz/O/10ticGBPy5r6Tbl73k/5MekrScukT9l8dc3vPugPy7CStGxGqQ/kNediQMPpj/eQC82BXCkP/jJngqC+6o/Z0Q+TOWWsD8wFbHl2rWzP+ItHfyqnLI/zXEb8+HUsz//bJn28pKzP6QVnVWeHrI/7iqfpLTzrD8c17EZQKanPzwHF2DRWKE/nm6n44n3nj8yaBf6A1GjP+THpK0nLqE/\"},\"shape\":[24],\"dtype\":\"float64\",\"order\":\"little\"}],[\"LARCENY/THEFT\",{\"type\":\"ndarray\",\"array\":{\"type\":\"bytes\",\"data\":\"2/JcMqcrpj9PKtC4NXGYP0z7K71cQ5A/CvYdnp8hiT8mrkLMVaeCP15oS1kJV4I/oBFJaiBriD+/2G6C2DqQPw/RiVuYzps/F57PMlVIoT+phHSnaLqnP7eyfrdw9qs/s7nwb6FasD+Z+E3u6mmrP6sXwnHtEqs/JN9x3mMBrD+465vA4gCtP2qp19157LA/TfAs4lvjsz8x+Ne3lbmyPzkHzxJjzLA/YaN0/Upoqj8wQwePpr2mPxUhlkVw06I/\"},\"shape\":[24],\"dtype\":\"float64\",\"order\":\"little\"}],[\"PROSTITUTION\",{\"type\":\"ndarray\",\"array\":{\"type\":\"bytes\",\"data\":\"YSjjpj9Auz+QBmmQBmmwPwPZG+x7p6o/KwbXQWNLoz/7TFvj7+aRP7br6Vh3GHM/keFeBbOkfD8SGIERGIFxP9qIMJRx028/2ogwlHHTbz9bv1Kg1q90Py0pB0SGe4U/2ogwlHHTnz/kgTW1x0ySP4hVnvwm5KM/vVR6X+CoqT8D2Rvse6eqP+rqxbsw3ag/6MeVuQ2tpj9lbkOrhaCvP/FTVsKZba8/7lUwS8oBsT87Q2LezpC4Pym+nLTsVr0/\"},\"shape\":[24],\"dtype\":\"float64\",\"order\":\"little\"}],[\"ROBBERY\",{\"type\":\"ndarray\",\"array\":{\"type\":\"bytes\",\"data\":\"KG5TTyUSqD9oW2To5XSoP4AshFaXUKc/fUztg0b6nD/UYhWKBReUP7n6ycJQEpM/tlQS5E04kT+DG6eu51eRP9cIzWgI8ZU/LdjaFyoomz/CNVzYps2gP+E00/he+6M/spKTHPxDpj/0UgAlvpOnP1CZ0P8zSqk/RZpuANxSqj8wbwZxLVGtPzxf3OqFl6w/vGairQVwrD/i3Nv5ER2sP4keq/Kf3qw/jaZKxqNWrz8vnKoBLGSsPyAVqS7Q9Ko/\"},\"shape\":[24],\"dtype\":\"float64\",\"order\":\"little\"}],[\"STOLEN PROPERTY\",{\"type\":\"ndarray\",\"array\":{\"type\":\"bytes\",\"data\":\"xaMIZC2AqD8Rll1ViH+cPxGWXVWIf5w/V3/qHg0Vlz/s38b75meVP5njfMaX7JE/XYnfYgGRlj8EgnPNn4edP6p8YXB6oqA/Vb0DHB8/oj8xBkCmXxWlP5SbboWRRqc/BqcnCsHssD8HB27vmUWtPw4RYzOOwaw/BIJzzZ+HrT+whla0bh6wP7JHEJs+4q4/Ujfc3QZvrD+tAC92Vk6qP2ST1Kb1DKY/rD5Ic2h4pT/D4SFhP6qjPz4aKi5IDaQ/\"},\"shape\":[24],\"dtype\":\"float64\",\"order\":\"little\"}],[\"VANDALISM\",{\"type\":\"ndarray\",\"array\":{\"type\":\"bytes\",\"data\":\"z2Vr3bWoqz+l0pO55muhP2mXalYSOqA/7xLX8mymnD+okN8Y0iyXP0U/zJT9apU/X6O9qv3KlT/KRxNaFAqZP6gHfmGHSqA/gNGPNPXFoD9rlhQSGg+iP/lSAGshNKI/SmhCiCIUpz+E5R+MC4WiPwxDVQVV96M/pXExUThjpj84V5OdZDGoP70pmnbixq4/lvbOdslnsT93Xkn9IFSwPwUN9LgrSa8/Zop//Q01rT+DGD1LK2mtPxqp0UO1CKk/\"},\"shape\":[24],\"dtype\":\"float64\",\"order\":\"little\"}],[\"VEHICLE THEFT\",{\"type\":\"ndarray\",\"array\":{\"type\":\"bytes\",\"data\":\"7Ffsxd5PpD9XaVS2HbOWPxun3lPIx5I/Cvr+IXomjj9EeGSECr+IPz1Vt1EsI4o/TA24csdWkj+8ExsnQmqZP8GRh4Tp6qE/DuoROwCjoT8EsH13DPChPwcAOGYRhaA/gQdcgJDNqT/fP0TPxAOhP0TqCkDpuqM/q4NbyqA+qD/5aT/F2PqsP22IhLAXtLI/1KR/Nl+ItD+bjZ+gYFmxP2lJQKh/UrI/tbJARQM+sD/VT4epcSOxP7WEHDClc6o/\"},\"shape\":[24],\"dtype\":\"float64\",\"order\":\"little\"}],[\"WEAPON LAWS\",{\"type\":\"ndarray\",\"array\":{\"type\":\"bytes\",\"data\":\"PyNv6TGQqz9l+LV9ZBulP17qrWZYQKI/xtffZ1UPnD+vrcciMX6TPwPXPkGsK44/sQEd/eUzkD9H0p2pIWmWPzG6jezqkZo/j9SAHR0UoD9nTAtYGdGhP/IHAOLCvaM/WUIDsu7UqD++yddQSTSpP9aUFj9Rw6k/+h4MvcX1rD/K3mNz23ytP/4lkMhLY64/SYXM2vIgqz//z7o1Jr6sPyT71lx+7qc/6a6mtPiJqj/AfAaCGuytP8LQW1zPoao/\"},\"shape\":[24],\"dtype\":\"float64\",\"order\":\"little\"}]]}}},\"view\":{\"type\":\"object\",\"name\":\"CDSView\",\"id\":\"p13125\",\"attributes\":{\"filter\":{\"type\":\"object\",\"name\":\"AllIndices\",\"id\":\"p13126\"}}},\"glyph\":{\"type\":\"object\",\"name\":\"VBar\",\"id\":\"p13121\",\"attributes\":{\"x\":{\"type\":\"field\",\"field\":\"Hour\",\"transform\":{\"type\":\"object\",\"name\":\"Dodge\",\"id\":\"p13117\",\"attributes\":{\"value\":0.5,\"range\":{\"id\":\"p13083\"}}}},\"width\":{\"type\":\"value\",\"value\":0.8},\"top\":{\"type\":\"field\",\"field\":\"ASSAULT\"},\"line_color\":{\"type\":\"value\",\"value\":\"#1f77b4\"},\"fill_color\":{\"type\":\"value\",\"value\":\"#1f77b4\"},\"hatch_color\":{\"type\":\"value\",\"value\":\"#1f77b4\"}}},\"nonselection_glyph\":{\"type\":\"object\",\"name\":\"VBar\",\"id\":\"p13122\",\"attributes\":{\"x\":{\"type\":\"field\",\"field\":\"Hour\",\"transform\":{\"id\":\"p13117\"}},\"width\":{\"type\":\"value\",\"value\":0.8},\"top\":{\"type\":\"field\",\"field\":\"ASSAULT\"},\"line_color\":{\"type\":\"value\",\"value\":\"#1f77b4\"},\"line_alpha\":{\"type\":\"value\",\"value\":0.1},\"fill_color\":{\"type\":\"value\",\"value\":\"#1f77b4\"},\"fill_alpha\":{\"type\":\"value\",\"value\":0.1},\"hatch_color\":{\"type\":\"value\",\"value\":\"#1f77b4\"},\"hatch_alpha\":{\"type\":\"value\",\"value\":0.1}}},\"muted_glyph\":{\"type\":\"object\",\"name\":\"VBar\",\"id\":\"p13123\",\"attributes\":{\"x\":{\"type\":\"field\",\"field\":\"Hour\",\"transform\":{\"id\":\"p13117\"}},\"width\":{\"type\":\"value\",\"value\":0.8},\"top\":{\"type\":\"field\",\"field\":\"ASSAULT\"},\"line_color\":{\"type\":\"value\",\"value\":\"#1f77b4\"},\"line_alpha\":{\"type\":\"value\",\"value\":0.1},\"fill_color\":{\"type\":\"value\",\"value\":\"#1f77b4\"},\"fill_alpha\":{\"type\":\"value\",\"value\":0.1},\"hatch_color\":{\"type\":\"value\",\"value\":\"#1f77b4\"},\"hatch_alpha\":{\"type\":\"value\",\"value\":0.1}}},\"muted\":true}},{\"type\":\"object\",\"name\":\"GlyphRenderer\",\"id\":\"p13135\",\"attributes\":{\"data_source\":{\"id\":\"p9503\"},\"view\":{\"type\":\"object\",\"name\":\"CDSView\",\"id\":\"p13136\",\"attributes\":{\"filter\":{\"type\":\"object\",\"name\":\"AllIndices\",\"id\":\"p13137\"}}},\"glyph\":{\"type\":\"object\",\"name\":\"VBar\",\"id\":\"p13132\",\"attributes\":{\"x\":{\"type\":\"field\",\"field\":\"Hour\",\"transform\":{\"type\":\"object\",\"name\":\"Dodge\",\"id\":\"p13128\",\"attributes\":{\"value\":0.5,\"range\":{\"id\":\"p13083\"}}}},\"width\":{\"type\":\"value\",\"value\":0.8},\"top\":{\"type\":\"field\",\"field\":\"BURGLARY\"},\"line_color\":{\"type\":\"value\",\"value\":\"#ff7f0e\"},\"fill_color\":{\"type\":\"value\",\"value\":\"#ff7f0e\"},\"hatch_color\":{\"type\":\"value\",\"value\":\"#ff7f0e\"}}},\"nonselection_glyph\":{\"type\":\"object\",\"name\":\"VBar\",\"id\":\"p13133\",\"attributes\":{\"x\":{\"type\":\"field\",\"field\":\"Hour\",\"transform\":{\"id\":\"p13128\"}},\"width\":{\"type\":\"value\",\"value\":0.8},\"top\":{\"type\":\"field\",\"field\":\"BURGLARY\"},\"line_color\":{\"type\":\"value\",\"value\":\"#ff7f0e\"},\"line_alpha\":{\"type\":\"value\",\"value\":0.1},\"fill_color\":{\"type\":\"value\",\"value\":\"#ff7f0e\"},\"fill_alpha\":{\"type\":\"value\",\"value\":0.1},\"hatch_color\":{\"type\":\"value\",\"value\":\"#ff7f0e\"},\"hatch_alpha\":{\"type\":\"value\",\"value\":0.1}}},\"muted_glyph\":{\"type\":\"object\",\"name\":\"VBar\",\"id\":\"p13134\",\"attributes\":{\"x\":{\"type\":\"field\",\"field\":\"Hour\",\"transform\":{\"id\":\"p13128\"}},\"width\":{\"type\":\"value\",\"value\":0.8},\"top\":{\"type\":\"field\",\"field\":\"BURGLARY\"},\"line_color\":{\"type\":\"value\",\"value\":\"#ff7f0e\"},\"line_alpha\":{\"type\":\"value\",\"value\":0.1},\"fill_color\":{\"type\":\"value\",\"value\":\"#ff7f0e\"},\"fill_alpha\":{\"type\":\"value\",\"value\":0.1},\"hatch_color\":{\"type\":\"value\",\"value\":\"#ff7f0e\"},\"hatch_alpha\":{\"type\":\"value\",\"value\":0.1}}},\"muted\":true}},{\"type\":\"object\",\"name\":\"GlyphRenderer\",\"id\":\"p13146\",\"attributes\":{\"data_source\":{\"id\":\"p9503\"},\"view\":{\"type\":\"object\",\"name\":\"CDSView\",\"id\":\"p13147\",\"attributes\":{\"filter\":{\"type\":\"object\",\"name\":\"AllIndices\",\"id\":\"p13148\"}}},\"glyph\":{\"type\":\"object\",\"name\":\"VBar\",\"id\":\"p13143\",\"attributes\":{\"x\":{\"type\":\"field\",\"field\":\"Hour\",\"transform\":{\"type\":\"object\",\"name\":\"Dodge\",\"id\":\"p13139\",\"attributes\":{\"value\":0.5,\"range\":{\"id\":\"p13083\"}}}},\"width\":{\"type\":\"value\",\"value\":0.8},\"top\":{\"type\":\"field\",\"field\":\"DRUG/NARCOTIC\"},\"line_color\":{\"type\":\"value\",\"value\":\"#2ca02c\"},\"fill_color\":{\"type\":\"value\",\"value\":\"#2ca02c\"},\"hatch_color\":{\"type\":\"value\",\"value\":\"#2ca02c\"}}},\"nonselection_glyph\":{\"type\":\"object\",\"name\":\"VBar\",\"id\":\"p13144\",\"attributes\":{\"x\":{\"type\":\"field\",\"field\":\"Hour\",\"transform\":{\"id\":\"p13139\"}},\"width\":{\"type\":\"value\",\"value\":0.8},\"top\":{\"type\":\"field\",\"field\":\"DRUG/NARCOTIC\"},\"line_color\":{\"type\":\"value\",\"value\":\"#2ca02c\"},\"line_alpha\":{\"type\":\"value\",\"value\":0.1},\"fill_color\":{\"type\":\"value\",\"value\":\"#2ca02c\"},\"fill_alpha\":{\"type\":\"value\",\"value\":0.1},\"hatch_color\":{\"type\":\"value\",\"value\":\"#2ca02c\"},\"hatch_alpha\":{\"type\":\"value\",\"value\":0.1}}},\"muted_glyph\":{\"type\":\"object\",\"name\":\"VBar\",\"id\":\"p13145\",\"attributes\":{\"x\":{\"type\":\"field\",\"field\":\"Hour\",\"transform\":{\"id\":\"p13139\"}},\"width\":{\"type\":\"value\",\"value\":0.8},\"top\":{\"type\":\"field\",\"field\":\"DRUG/NARCOTIC\"},\"line_color\":{\"type\":\"value\",\"value\":\"#2ca02c\"},\"line_alpha\":{\"type\":\"value\",\"value\":0.1},\"fill_color\":{\"type\":\"value\",\"value\":\"#2ca02c\"},\"fill_alpha\":{\"type\":\"value\",\"value\":0.1},\"hatch_color\":{\"type\":\"value\",\"value\":\"#2ca02c\"},\"hatch_alpha\":{\"type\":\"value\",\"value\":0.1}}},\"muted\":true}},{\"type\":\"object\",\"name\":\"GlyphRenderer\",\"id\":\"p13157\",\"attributes\":{\"data_source\":{\"id\":\"p9503\"},\"view\":{\"type\":\"object\",\"name\":\"CDSView\",\"id\":\"p13158\",\"attributes\":{\"filter\":{\"type\":\"object\",\"name\":\"AllIndices\",\"id\":\"p13159\"}}},\"glyph\":{\"type\":\"object\",\"name\":\"VBar\",\"id\":\"p13154\",\"attributes\":{\"x\":{\"type\":\"field\",\"field\":\"Hour\",\"transform\":{\"type\":\"object\",\"name\":\"Dodge\",\"id\":\"p13150\",\"attributes\":{\"value\":0.5,\"range\":{\"id\":\"p13083\"}}}},\"width\":{\"type\":\"value\",\"value\":0.8},\"top\":{\"type\":\"field\",\"field\":\"LARCENY/THEFT\"},\"line_color\":{\"type\":\"value\",\"value\":\"#d62728\"},\"fill_color\":{\"type\":\"value\",\"value\":\"#d62728\"},\"hatch_color\":{\"type\":\"value\",\"value\":\"#d62728\"}}},\"nonselection_glyph\":{\"type\":\"object\",\"name\":\"VBar\",\"id\":\"p13155\",\"attributes\":{\"x\":{\"type\":\"field\",\"field\":\"Hour\",\"transform\":{\"id\":\"p13150\"}},\"width\":{\"type\":\"value\",\"value\":0.8},\"top\":{\"type\":\"field\",\"field\":\"LARCENY/THEFT\"},\"line_color\":{\"type\":\"value\",\"value\":\"#d62728\"},\"line_alpha\":{\"type\":\"value\",\"value\":0.1},\"fill_color\":{\"type\":\"value\",\"value\":\"#d62728\"},\"fill_alpha\":{\"type\":\"value\",\"value\":0.1},\"hatch_color\":{\"type\":\"value\",\"value\":\"#d62728\"},\"hatch_alpha\":{\"type\":\"value\",\"value\":0.1}}},\"muted_glyph\":{\"type\":\"object\",\"name\":\"VBar\",\"id\":\"p13156\",\"attributes\":{\"x\":{\"type\":\"field\",\"field\":\"Hour\",\"transform\":{\"id\":\"p13150\"}},\"width\":{\"type\":\"value\",\"value\":0.8},\"top\":{\"type\":\"field\",\"field\":\"LARCENY/THEFT\"},\"line_color\":{\"type\":\"value\",\"value\":\"#d62728\"},\"line_alpha\":{\"type\":\"value\",\"value\":0.1},\"fill_color\":{\"type\":\"value\",\"value\":\"#d62728\"},\"fill_alpha\":{\"type\":\"value\",\"value\":0.1},\"hatch_color\":{\"type\":\"value\",\"value\":\"#d62728\"},\"hatch_alpha\":{\"type\":\"value\",\"value\":0.1}}},\"muted\":true}},{\"type\":\"object\",\"name\":\"GlyphRenderer\",\"id\":\"p13168\",\"attributes\":{\"data_source\":{\"id\":\"p9503\"},\"view\":{\"type\":\"object\",\"name\":\"CDSView\",\"id\":\"p13169\",\"attributes\":{\"filter\":{\"type\":\"object\",\"name\":\"AllIndices\",\"id\":\"p13170\"}}},\"glyph\":{\"type\":\"object\",\"name\":\"VBar\",\"id\":\"p13165\",\"attributes\":{\"x\":{\"type\":\"field\",\"field\":\"Hour\",\"transform\":{\"type\":\"object\",\"name\":\"Dodge\",\"id\":\"p13161\",\"attributes\":{\"value\":0.5,\"range\":{\"id\":\"p13083\"}}}},\"width\":{\"type\":\"value\",\"value\":0.8},\"top\":{\"type\":\"field\",\"field\":\"PROSTITUTION\"},\"line_color\":{\"type\":\"value\",\"value\":\"#9467bd\"},\"fill_color\":{\"type\":\"value\",\"value\":\"#9467bd\"},\"hatch_color\":{\"type\":\"value\",\"value\":\"#9467bd\"}}},\"nonselection_glyph\":{\"type\":\"object\",\"name\":\"VBar\",\"id\":\"p13166\",\"attributes\":{\"x\":{\"type\":\"field\",\"field\":\"Hour\",\"transform\":{\"id\":\"p13161\"}},\"width\":{\"type\":\"value\",\"value\":0.8},\"top\":{\"type\":\"field\",\"field\":\"PROSTITUTION\"},\"line_color\":{\"type\":\"value\",\"value\":\"#9467bd\"},\"line_alpha\":{\"type\":\"value\",\"value\":0.1},\"fill_color\":{\"type\":\"value\",\"value\":\"#9467bd\"},\"fill_alpha\":{\"type\":\"value\",\"value\":0.1},\"hatch_color\":{\"type\":\"value\",\"value\":\"#9467bd\"},\"hatch_alpha\":{\"type\":\"value\",\"value\":0.1}}},\"muted_glyph\":{\"type\":\"object\",\"name\":\"VBar\",\"id\":\"p13167\",\"attributes\":{\"x\":{\"type\":\"field\",\"field\":\"Hour\",\"transform\":{\"id\":\"p13161\"}},\"width\":{\"type\":\"value\",\"value\":0.8},\"top\":{\"type\":\"field\",\"field\":\"PROSTITUTION\"},\"line_color\":{\"type\":\"value\",\"value\":\"#9467bd\"},\"line_alpha\":{\"type\":\"value\",\"value\":0.1},\"fill_color\":{\"type\":\"value\",\"value\":\"#9467bd\"},\"fill_alpha\":{\"type\":\"value\",\"value\":0.1},\"hatch_color\":{\"type\":\"value\",\"value\":\"#9467bd\"},\"hatch_alpha\":{\"type\":\"value\",\"value\":0.1}}},\"muted\":true}},{\"type\":\"object\",\"name\":\"GlyphRenderer\",\"id\":\"p13179\",\"attributes\":{\"data_source\":{\"id\":\"p9503\"},\"view\":{\"type\":\"object\",\"name\":\"CDSView\",\"id\":\"p13180\",\"attributes\":{\"filter\":{\"type\":\"object\",\"name\":\"AllIndices\",\"id\":\"p13181\"}}},\"glyph\":{\"type\":\"object\",\"name\":\"VBar\",\"id\":\"p13176\",\"attributes\":{\"x\":{\"type\":\"field\",\"field\":\"Hour\",\"transform\":{\"type\":\"object\",\"name\":\"Dodge\",\"id\":\"p13172\",\"attributes\":{\"value\":0.5,\"range\":{\"id\":\"p13083\"}}}},\"width\":{\"type\":\"value\",\"value\":0.8},\"top\":{\"type\":\"field\",\"field\":\"ROBBERY\"},\"line_color\":{\"type\":\"value\",\"value\":\"#8c564b\"},\"fill_color\":{\"type\":\"value\",\"value\":\"#8c564b\"},\"hatch_color\":{\"type\":\"value\",\"value\":\"#8c564b\"}}},\"nonselection_glyph\":{\"type\":\"object\",\"name\":\"VBar\",\"id\":\"p13177\",\"attributes\":{\"x\":{\"type\":\"field\",\"field\":\"Hour\",\"transform\":{\"id\":\"p13172\"}},\"width\":{\"type\":\"value\",\"value\":0.8},\"top\":{\"type\":\"field\",\"field\":\"ROBBERY\"},\"line_color\":{\"type\":\"value\",\"value\":\"#8c564b\"},\"line_alpha\":{\"type\":\"value\",\"value\":0.1},\"fill_color\":{\"type\":\"value\",\"value\":\"#8c564b\"},\"fill_alpha\":{\"type\":\"value\",\"value\":0.1},\"hatch_color\":{\"type\":\"value\",\"value\":\"#8c564b\"},\"hatch_alpha\":{\"type\":\"value\",\"value\":0.1}}},\"muted_glyph\":{\"type\":\"object\",\"name\":\"VBar\",\"id\":\"p13178\",\"attributes\":{\"x\":{\"type\":\"field\",\"field\":\"Hour\",\"transform\":{\"id\":\"p13172\"}},\"width\":{\"type\":\"value\",\"value\":0.8},\"top\":{\"type\":\"field\",\"field\":\"ROBBERY\"},\"line_color\":{\"type\":\"value\",\"value\":\"#8c564b\"},\"line_alpha\":{\"type\":\"value\",\"value\":0.1},\"fill_color\":{\"type\":\"value\",\"value\":\"#8c564b\"},\"fill_alpha\":{\"type\":\"value\",\"value\":0.1},\"hatch_color\":{\"type\":\"value\",\"value\":\"#8c564b\"},\"hatch_alpha\":{\"type\":\"value\",\"value\":0.1}}},\"muted\":true}},{\"type\":\"object\",\"name\":\"GlyphRenderer\",\"id\":\"p13190\",\"attributes\":{\"data_source\":{\"id\":\"p9503\"},\"view\":{\"type\":\"object\",\"name\":\"CDSView\",\"id\":\"p13191\",\"attributes\":{\"filter\":{\"type\":\"object\",\"name\":\"AllIndices\",\"id\":\"p13192\"}}},\"glyph\":{\"type\":\"object\",\"name\":\"VBar\",\"id\":\"p13187\",\"attributes\":{\"x\":{\"type\":\"field\",\"field\":\"Hour\",\"transform\":{\"type\":\"object\",\"name\":\"Dodge\",\"id\":\"p13183\",\"attributes\":{\"value\":0.5,\"range\":{\"id\":\"p13083\"}}}},\"width\":{\"type\":\"value\",\"value\":0.8},\"top\":{\"type\":\"field\",\"field\":\"STOLEN PROPERTY\"},\"line_color\":{\"type\":\"value\",\"value\":\"#e377c2\"},\"fill_color\":{\"type\":\"value\",\"value\":\"#e377c2\"},\"hatch_color\":{\"type\":\"value\",\"value\":\"#e377c2\"}}},\"nonselection_glyph\":{\"type\":\"object\",\"name\":\"VBar\",\"id\":\"p13188\",\"attributes\":{\"x\":{\"type\":\"field\",\"field\":\"Hour\",\"transform\":{\"id\":\"p13183\"}},\"width\":{\"type\":\"value\",\"value\":0.8},\"top\":{\"type\":\"field\",\"field\":\"STOLEN PROPERTY\"},\"line_color\":{\"type\":\"value\",\"value\":\"#e377c2\"},\"line_alpha\":{\"type\":\"value\",\"value\":0.1},\"fill_color\":{\"type\":\"value\",\"value\":\"#e377c2\"},\"fill_alpha\":{\"type\":\"value\",\"value\":0.1},\"hatch_color\":{\"type\":\"value\",\"value\":\"#e377c2\"},\"hatch_alpha\":{\"type\":\"value\",\"value\":0.1}}},\"muted_glyph\":{\"type\":\"object\",\"name\":\"VBar\",\"id\":\"p13189\",\"attributes\":{\"x\":{\"type\":\"field\",\"field\":\"Hour\",\"transform\":{\"id\":\"p13183\"}},\"width\":{\"type\":\"value\",\"value\":0.8},\"top\":{\"type\":\"field\",\"field\":\"STOLEN PROPERTY\"},\"line_color\":{\"type\":\"value\",\"value\":\"#e377c2\"},\"line_alpha\":{\"type\":\"value\",\"value\":0.1},\"fill_color\":{\"type\":\"value\",\"value\":\"#e377c2\"},\"fill_alpha\":{\"type\":\"value\",\"value\":0.1},\"hatch_color\":{\"type\":\"value\",\"value\":\"#e377c2\"},\"hatch_alpha\":{\"type\":\"value\",\"value\":0.1}}},\"muted\":true}},{\"type\":\"object\",\"name\":\"GlyphRenderer\",\"id\":\"p13201\",\"attributes\":{\"data_source\":{\"id\":\"p9503\"},\"view\":{\"type\":\"object\",\"name\":\"CDSView\",\"id\":\"p13202\",\"attributes\":{\"filter\":{\"type\":\"object\",\"name\":\"AllIndices\",\"id\":\"p13203\"}}},\"glyph\":{\"type\":\"object\",\"name\":\"VBar\",\"id\":\"p13198\",\"attributes\":{\"x\":{\"type\":\"field\",\"field\":\"Hour\",\"transform\":{\"type\":\"object\",\"name\":\"Dodge\",\"id\":\"p13194\",\"attributes\":{\"value\":0.5,\"range\":{\"id\":\"p13083\"}}}},\"width\":{\"type\":\"value\",\"value\":0.8},\"top\":{\"type\":\"field\",\"field\":\"VANDALISM\"},\"line_color\":{\"type\":\"value\",\"value\":\"#7f7f7f\"},\"fill_color\":{\"type\":\"value\",\"value\":\"#7f7f7f\"},\"hatch_color\":{\"type\":\"value\",\"value\":\"#7f7f7f\"}}},\"nonselection_glyph\":{\"type\":\"object\",\"name\":\"VBar\",\"id\":\"p13199\",\"attributes\":{\"x\":{\"type\":\"field\",\"field\":\"Hour\",\"transform\":{\"id\":\"p13194\"}},\"width\":{\"type\":\"value\",\"value\":0.8},\"top\":{\"type\":\"field\",\"field\":\"VANDALISM\"},\"line_color\":{\"type\":\"value\",\"value\":\"#7f7f7f\"},\"line_alpha\":{\"type\":\"value\",\"value\":0.1},\"fill_color\":{\"type\":\"value\",\"value\":\"#7f7f7f\"},\"fill_alpha\":{\"type\":\"value\",\"value\":0.1},\"hatch_color\":{\"type\":\"value\",\"value\":\"#7f7f7f\"},\"hatch_alpha\":{\"type\":\"value\",\"value\":0.1}}},\"muted_glyph\":{\"type\":\"object\",\"name\":\"VBar\",\"id\":\"p13200\",\"attributes\":{\"x\":{\"type\":\"field\",\"field\":\"Hour\",\"transform\":{\"id\":\"p13194\"}},\"width\":{\"type\":\"value\",\"value\":0.8},\"top\":{\"type\":\"field\",\"field\":\"VANDALISM\"},\"line_color\":{\"type\":\"value\",\"value\":\"#7f7f7f\"},\"line_alpha\":{\"type\":\"value\",\"value\":0.1},\"fill_color\":{\"type\":\"value\",\"value\":\"#7f7f7f\"},\"fill_alpha\":{\"type\":\"value\",\"value\":0.1},\"hatch_color\":{\"type\":\"value\",\"value\":\"#7f7f7f\"},\"hatch_alpha\":{\"type\":\"value\",\"value\":0.1}}},\"muted\":true}},{\"type\":\"object\",\"name\":\"GlyphRenderer\",\"id\":\"p13212\",\"attributes\":{\"data_source\":{\"id\":\"p9503\"},\"view\":{\"type\":\"object\",\"name\":\"CDSView\",\"id\":\"p13213\",\"attributes\":{\"filter\":{\"type\":\"object\",\"name\":\"AllIndices\",\"id\":\"p13214\"}}},\"glyph\":{\"type\":\"object\",\"name\":\"VBar\",\"id\":\"p13209\",\"attributes\":{\"x\":{\"type\":\"field\",\"field\":\"Hour\",\"transform\":{\"type\":\"object\",\"name\":\"Dodge\",\"id\":\"p13205\",\"attributes\":{\"value\":0.5,\"range\":{\"id\":\"p13083\"}}}},\"width\":{\"type\":\"value\",\"value\":0.8},\"top\":{\"type\":\"field\",\"field\":\"VEHICLE THEFT\"},\"line_color\":{\"type\":\"value\",\"value\":\"#bcbd22\"},\"fill_color\":{\"type\":\"value\",\"value\":\"#bcbd22\"},\"hatch_color\":{\"type\":\"value\",\"value\":\"#bcbd22\"}}},\"nonselection_glyph\":{\"type\":\"object\",\"name\":\"VBar\",\"id\":\"p13210\",\"attributes\":{\"x\":{\"type\":\"field\",\"field\":\"Hour\",\"transform\":{\"id\":\"p13205\"}},\"width\":{\"type\":\"value\",\"value\":0.8},\"top\":{\"type\":\"field\",\"field\":\"VEHICLE THEFT\"},\"line_color\":{\"type\":\"value\",\"value\":\"#bcbd22\"},\"line_alpha\":{\"type\":\"value\",\"value\":0.1},\"fill_color\":{\"type\":\"value\",\"value\":\"#bcbd22\"},\"fill_alpha\":{\"type\":\"value\",\"value\":0.1},\"hatch_color\":{\"type\":\"value\",\"value\":\"#bcbd22\"},\"hatch_alpha\":{\"type\":\"value\",\"value\":0.1}}},\"muted_glyph\":{\"type\":\"object\",\"name\":\"VBar\",\"id\":\"p13211\",\"attributes\":{\"x\":{\"type\":\"field\",\"field\":\"Hour\",\"transform\":{\"id\":\"p13205\"}},\"width\":{\"type\":\"value\",\"value\":0.8},\"top\":{\"type\":\"field\",\"field\":\"VEHICLE THEFT\"},\"line_color\":{\"type\":\"value\",\"value\":\"#bcbd22\"},\"line_alpha\":{\"type\":\"value\",\"value\":0.1},\"fill_color\":{\"type\":\"value\",\"value\":\"#bcbd22\"},\"fill_alpha\":{\"type\":\"value\",\"value\":0.1},\"hatch_color\":{\"type\":\"value\",\"value\":\"#bcbd22\"},\"hatch_alpha\":{\"type\":\"value\",\"value\":0.1}}},\"muted\":true}},{\"type\":\"object\",\"name\":\"GlyphRenderer\",\"id\":\"p13223\",\"attributes\":{\"data_source\":{\"id\":\"p9503\"},\"view\":{\"type\":\"object\",\"name\":\"CDSView\",\"id\":\"p13224\",\"attributes\":{\"filter\":{\"type\":\"object\",\"name\":\"AllIndices\",\"id\":\"p13225\"}}},\"glyph\":{\"type\":\"object\",\"name\":\"VBar\",\"id\":\"p13220\",\"attributes\":{\"x\":{\"type\":\"field\",\"field\":\"Hour\",\"transform\":{\"type\":\"object\",\"name\":\"Dodge\",\"id\":\"p13216\",\"attributes\":{\"value\":0.5,\"range\":{\"id\":\"p13083\"}}}},\"width\":{\"type\":\"value\",\"value\":0.8},\"top\":{\"type\":\"field\",\"field\":\"WEAPON LAWS\"},\"line_color\":{\"type\":\"value\",\"value\":\"#17becf\"},\"fill_color\":{\"type\":\"value\",\"value\":\"#17becf\"},\"hatch_color\":{\"type\":\"value\",\"value\":\"#17becf\"}}},\"nonselection_glyph\":{\"type\":\"object\",\"name\":\"VBar\",\"id\":\"p13221\",\"attributes\":{\"x\":{\"type\":\"field\",\"field\":\"Hour\",\"transform\":{\"id\":\"p13216\"}},\"width\":{\"type\":\"value\",\"value\":0.8},\"top\":{\"type\":\"field\",\"field\":\"WEAPON LAWS\"},\"line_color\":{\"type\":\"value\",\"value\":\"#17becf\"},\"line_alpha\":{\"type\":\"value\",\"value\":0.1},\"fill_color\":{\"type\":\"value\",\"value\":\"#17becf\"},\"fill_alpha\":{\"type\":\"value\",\"value\":0.1},\"hatch_color\":{\"type\":\"value\",\"value\":\"#17becf\"},\"hatch_alpha\":{\"type\":\"value\",\"value\":0.1}}},\"muted_glyph\":{\"type\":\"object\",\"name\":\"VBar\",\"id\":\"p13222\",\"attributes\":{\"x\":{\"type\":\"field\",\"field\":\"Hour\",\"transform\":{\"id\":\"p13216\"}},\"width\":{\"type\":\"value\",\"value\":0.8},\"top\":{\"type\":\"field\",\"field\":\"WEAPON LAWS\"},\"line_color\":{\"type\":\"value\",\"value\":\"#17becf\"},\"line_alpha\":{\"type\":\"value\",\"value\":0.1},\"fill_color\":{\"type\":\"value\",\"value\":\"#17becf\"},\"fill_alpha\":{\"type\":\"value\",\"value\":0.1},\"hatch_color\":{\"type\":\"value\",\"value\":\"#17becf\"},\"hatch_alpha\":{\"type\":\"value\",\"value\":0.1}}},\"muted\":true}}],\"toolbar\":{\"type\":\"object\",\"name\":\"Toolbar\",\"id\":\"p13093\",\"attributes\":{\"tools\":[{\"type\":\"object\",\"name\":\"PanTool\",\"id\":\"p13106\"},{\"type\":\"object\",\"name\":\"WheelZoomTool\",\"id\":\"p13107\",\"attributes\":{\"renderers\":\"auto\"}},{\"type\":\"object\",\"name\":\"BoxZoomTool\",\"id\":\"p13108\",\"attributes\":{\"dimensions\":\"both\",\"overlay\":{\"type\":\"object\",\"name\":\"BoxAnnotation\",\"id\":\"p13109\",\"attributes\":{\"syncable\":false,\"line_color\":\"black\",\"line_alpha\":1.0,\"line_width\":2,\"line_dash\":[4,4],\"fill_color\":\"lightgrey\",\"fill_alpha\":0.5,\"level\":\"overlay\",\"visible\":false,\"left\":{\"type\":\"number\",\"value\":\"nan\"},\"right\":{\"type\":\"number\",\"value\":\"nan\"},\"top\":{\"type\":\"number\",\"value\":\"nan\"},\"bottom\":{\"type\":\"number\",\"value\":\"nan\"},\"left_units\":\"canvas\",\"right_units\":\"canvas\",\"top_units\":\"canvas\",\"bottom_units\":\"canvas\",\"handles\":{\"type\":\"object\",\"name\":\"BoxInteractionHandles\",\"id\":\"p13115\",\"attributes\":{\"all\":{\"type\":\"object\",\"name\":\"AreaVisuals\",\"id\":\"p13114\",\"attributes\":{\"fill_color\":\"white\",\"hover_fill_color\":\"lightgray\"}}}}}}}},{\"type\":\"object\",\"name\":\"ResetTool\",\"id\":\"p13116\"},{\"type\":\"object\",\"name\":\"HoverTool\",\"id\":\"p13228\",\"attributes\":{\"renderers\":\"auto\",\"tooltips\":[[\"Hour\",\"@Hour\"],[\"Crime Probability\",\"$y\"]]}}]}},\"left\":[{\"type\":\"object\",\"name\":\"LinearAxis\",\"id\":\"p13101\",\"attributes\":{\"ticker\":{\"type\":\"object\",\"name\":\"BasicTicker\",\"id\":\"p13102\",\"attributes\":{\"mantissas\":[1,2,5]}},\"formatter\":{\"type\":\"object\",\"name\":\"BasicTickFormatter\",\"id\":\"p13103\"},\"axis_label\":\"Relative Frequency\",\"major_label_policy\":{\"type\":\"object\",\"name\":\"AllLabels\",\"id\":\"p13104\"}}},{\"type\":\"object\",\"name\":\"Legend\",\"id\":\"p13227\",\"attributes\":{\"location\":\"center\",\"click_policy\":\"mute\",\"items\":[{\"type\":\"object\",\"name\":\"LegendItem\",\"id\":\"p13127\",\"attributes\":{\"label\":{\"type\":\"value\",\"value\":\"ASSAULT\"},\"renderers\":[{\"id\":\"p13124\"}]}},{\"type\":\"object\",\"name\":\"LegendItem\",\"id\":\"p13138\",\"attributes\":{\"label\":{\"type\":\"value\",\"value\":\"BURGLARY\"},\"renderers\":[{\"id\":\"p13135\"}]}},{\"type\":\"object\",\"name\":\"LegendItem\",\"id\":\"p13149\",\"attributes\":{\"label\":{\"type\":\"value\",\"value\":\"DRUG/NARCOTIC\"},\"renderers\":[{\"id\":\"p13146\"}]}},{\"type\":\"object\",\"name\":\"LegendItem\",\"id\":\"p13160\",\"attributes\":{\"label\":{\"type\":\"value\",\"value\":\"LARCENY/THEFT\"},\"renderers\":[{\"id\":\"p13157\"}]}},{\"type\":\"object\",\"name\":\"LegendItem\",\"id\":\"p13171\",\"attributes\":{\"label\":{\"type\":\"value\",\"value\":\"PROSTITUTION\"},\"renderers\":[{\"id\":\"p13168\"}]}},{\"type\":\"object\",\"name\":\"LegendItem\",\"id\":\"p13182\",\"attributes\":{\"label\":{\"type\":\"value\",\"value\":\"ROBBERY\"},\"renderers\":[{\"id\":\"p13179\"}]}},{\"type\":\"object\",\"name\":\"LegendItem\",\"id\":\"p13193\",\"attributes\":{\"label\":{\"type\":\"value\",\"value\":\"STOLEN PROPERTY\"},\"renderers\":[{\"id\":\"p13190\"}]}},{\"type\":\"object\",\"name\":\"LegendItem\",\"id\":\"p13204\",\"attributes\":{\"label\":{\"type\":\"value\",\"value\":\"VANDALISM\"},\"renderers\":[{\"id\":\"p13201\"}]}},{\"type\":\"object\",\"name\":\"LegendItem\",\"id\":\"p13215\",\"attributes\":{\"label\":{\"type\":\"value\",\"value\":\"VEHICLE THEFT\"},\"renderers\":[{\"id\":\"p13212\"}]}},{\"type\":\"object\",\"name\":\"LegendItem\",\"id\":\"p13226\",\"attributes\":{\"label\":{\"type\":\"value\",\"value\":\"WEAPON LAWS\"},\"renderers\":[{\"id\":\"p13223\"}]}}]}}],\"below\":[{\"type\":\"object\",\"name\":\"CategoricalAxis\",\"id\":\"p13096\",\"attributes\":{\"ticker\":{\"type\":\"object\",\"name\":\"CategoricalTicker\",\"id\":\"p13097\"},\"formatter\":{\"type\":\"object\",\"name\":\"CategoricalTickFormatter\",\"id\":\"p13098\"},\"axis_label\":\"Hour of Day (0-23)\",\"major_label_policy\":{\"type\":\"object\",\"name\":\"AllLabels\",\"id\":\"p13099\"}}}],\"center\":[{\"type\":\"object\",\"name\":\"Grid\",\"id\":\"p13100\",\"attributes\":{\"axis\":{\"id\":\"p13096\"}}},{\"type\":\"object\",\"name\":\"Grid\",\"id\":\"p13105\",\"attributes\":{\"dimension\":1,\"axis\":{\"id\":\"p13101\"}}}]}}]}};\n  const render_items = [{\"docid\":\"8e6f9d61-524e-4cbf-b7ee-c4b0c9148895\",\"roots\":{\"p13084\":\"e781b406-626b-4b33-bc02-ece9f03f9af7\"},\"root_ids\":[\"p13084\"]}];\n  void root.Bokeh.embed.embed_items_notebook(docs_json, render_items);\n  }\n  if (root.Bokeh !== undefined) {\n    embed_document(root);\n  } else {\n    let attempts = 0;\n    const timer = setInterval(function(root) {\n      if (root.Bokeh !== undefined) {\n        clearInterval(timer);\n        embed_document(root);\n      } else {\n        attempts++;\n        if (attempts > 100) {\n          clearInterval(timer);\n          console.log(\"Bokeh: ERROR: Unable to run BokehJS code because BokehJS library is missing\");\n        }\n      }\n    }, 10, root)\n  }\n})(window);",
      "application/vnd.bokehjs_exec.v0+json": ""
     },
     "metadata": {
      "application/vnd.bokehjs_exec.v0+json": {
       "id": "p13084"
      }
     },
     "output_type": "display_data"
    }
   ],
   "source": [
    "from bokeh.palettes import Category10\n",
    "from bokeh.transform import dodge\n",
    "\n",
    "\n",
    "# 🔹 Define x-axis range (Hours 0-23 as categorical values)\n",
    "hours = [str(i) for i in range(24)]  # Convert hours to strings for FactorRange\n",
    "\n",
    "# 🔹 Define Colors\n",
    "colors = Category10[len(focus_crimes)]\n",
    "color_map = {crime: colors[i] for i, crime in enumerate(focus_crimes)}\n",
    "\n",
    "# 🔹 Create Bokeh Figure\n",
    "p = figure(\n",
    "    title=\"Hour-by-Hour Probabilities\", \n",
    "    x_range=FactorRange(*hours),  # Ensuring categorical x-axis\n",
    "    y_axis_label=\"Relative Frequency\", \n",
    "    x_axis_label=\"Hour of Day (0-23)\",\n",
    "    height=500, width=900, \n",
    "    tools=\"pan,wheel_zoom,box_zoom,reset\"\n",
    ")\n",
    "\n",
    "# 🔹 Add Bars (vbar) for Each Crime Category & Collect Legend Items\n",
    "bars = {}\n",
    "legend_items = []\n",
    "for crime in focus_crimes:\n",
    "    if crime in crime_pivot.columns:  # Ensure the crime exists in the DataFrame\n",
    "        bar = p.vbar(\n",
    "            x=dodge(\"Hour\", 0.5, range=p.x_range),\n",
    "            top=crime,  # Y-axis is the crime category column\n",
    "            source=source,  # Data source\n",
    "            width=0.8,  # Bar width\n",
    "            color=color_map[crime],  # Assign color\n",
    "            muted=True,  # Allow muting\n",
    "            muted_alpha=0.1  # Reduce opacity when muted\n",
    "        )\n",
    "        bars[crime] = bar\n",
    "        legend_items.append(LegendItem(label=crime, renderers=[bar]))  # Collect legend items\n",
    "\n",
    "# 🔹 Create a Legend and Move It Outside the Chart\n",
    "legend = Legend(items=legend_items, location=\"center\")\n",
    "p.add_layout(legend, \"left\")  # Moves the legend to the right\n",
    "\n",
    "# 🔹 Add Hover Tool\n",
    "hover = HoverTool(tooltips=[(\"Hour\", \"@Hour\"), (\"Crime Probability\", \"$y\")])\n",
    "p.add_tools(hover)\n",
    "\n",
    "# 🔹 Enable Interactive Legend\n",
    "p.legend.click_policy = \"mute\"\n",
    "\n",
    "# 🔹 Show Plot\n",
    "show(p)\n"
   ]
  }
 ],
 "metadata": {
  "kernelspec": {
   "display_name": "machinelearning",
   "language": "python",
   "name": "python3"
  },
  "language_info": {
   "codemirror_mode": {
    "name": "ipython",
    "version": 3
   },
   "file_extension": ".py",
   "mimetype": "text/x-python",
   "name": "python",
   "nbconvert_exporter": "python",
   "pygments_lexer": "ipython3",
   "version": "3.11.7"
  }
 },
 "nbformat": 4,
 "nbformat_minor": 2
}
