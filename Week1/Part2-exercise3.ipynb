{
 "cells": [
  {
   "cell_type": "markdown",
   "metadata": {},
   "source": [
    "# Temporal patterns\n",
    "\n",
    "- To start off easily, let's count the number of crimes per year:\n",
    "    - What is the year with most crimes?\n",
    "    - What is the year with the fewest crimes?.\n",
    "- Create a barplot of crimes-per-year (years on the x-axis, crime-counts on the y-axis).\n",
    "- Finally, Police chief Suneman is interested in the temporal development of only a subset of categories, the so-called *focus crimes*. Those categories are listed below (for convenient copy-paste action). Create bar-charts displaying the year-by-year development of each of these categories across the years 2003-2017."
   ]
  },
  {
   "cell_type": "code",
   "execution_count": 2,
   "metadata": {},
   "outputs": [
    {
     "name": "stdout",
     "output_type": "stream",
     "text": [
      "Unique Crime Categories in df_focus: ['ROBBERY' 'VEHICLE THEFT' 'ASSAULT' 'TRESPASS' 'BURGLARY' 'LARCENY/THEFT'\n",
      " 'DRUG/NARCOTIC' 'VANDALISM' 'WEAPON LAWS' 'DISORDERLY CONDUCT'\n",
      " 'PROSTITUTION' 'DRUNKENNESS' 'DRIVING UNDER THE INFLUENCE'\n",
      " 'STOLEN PROPERTY']\n"
     ]
    },
    {
     "data": {
      "text/html": [
       "<div>\n",
       "<style scoped>\n",
       "    .dataframe tbody tr th:only-of-type {\n",
       "        vertical-align: middle;\n",
       "    }\n",
       "\n",
       "    .dataframe tbody tr th {\n",
       "        vertical-align: top;\n",
       "    }\n",
       "\n",
       "    .dataframe thead th {\n",
       "        text-align: right;\n",
       "    }\n",
       "</style>\n",
       "<table border=\"1\" class=\"dataframe\">\n",
       "  <thead>\n",
       "    <tr style=\"text-align: right;\">\n",
       "      <th></th>\n",
       "      <th>Incident Date</th>\n",
       "      <th>Incident Time</th>\n",
       "      <th>Incident Day of Week</th>\n",
       "      <th>Incident Category</th>\n",
       "      <th>Incident Description</th>\n",
       "      <th>Police District</th>\n",
       "      <th>Latitude</th>\n",
       "      <th>Longitude</th>\n",
       "    </tr>\n",
       "  </thead>\n",
       "  <tbody>\n",
       "    <tr>\n",
       "      <th>0</th>\n",
       "      <td>2004-11-22</td>\n",
       "      <td>17</td>\n",
       "      <td>Monday</td>\n",
       "      <td>ROBBERY</td>\n",
       "      <td>ROBBERY, BODILY FORCE</td>\n",
       "      <td>INGLESIDE</td>\n",
       "      <td>37.708311</td>\n",
       "      <td>-122.420084</td>\n",
       "    </tr>\n",
       "    <tr>\n",
       "      <th>1</th>\n",
       "      <td>2005-10-18</td>\n",
       "      <td>20</td>\n",
       "      <td>Tuesday</td>\n",
       "      <td>VEHICLE THEFT</td>\n",
       "      <td>STOLEN AUTOMOBILE</td>\n",
       "      <td>PARK</td>\n",
       "      <td>90.000000</td>\n",
       "      <td>-120.500000</td>\n",
       "    </tr>\n",
       "    <tr>\n",
       "      <th>2</th>\n",
       "      <td>2004-02-15</td>\n",
       "      <td>2</td>\n",
       "      <td>Sunday</td>\n",
       "      <td>VEHICLE THEFT</td>\n",
       "      <td>STOLEN AUTOMOBILE</td>\n",
       "      <td>SOUTHERN</td>\n",
       "      <td>90.000000</td>\n",
       "      <td>-120.500000</td>\n",
       "    </tr>\n",
       "    <tr>\n",
       "      <th>4</th>\n",
       "      <td>2010-11-21</td>\n",
       "      <td>17</td>\n",
       "      <td>Sunday</td>\n",
       "      <td>ASSAULT</td>\n",
       "      <td>BATTERY</td>\n",
       "      <td>SOUTHERN</td>\n",
       "      <td>37.770913</td>\n",
       "      <td>-122.410541</td>\n",
       "    </tr>\n",
       "    <tr>\n",
       "      <th>5</th>\n",
       "      <td>2013-04-02</td>\n",
       "      <td>15</td>\n",
       "      <td>Tuesday</td>\n",
       "      <td>ASSAULT</td>\n",
       "      <td>BATTERY</td>\n",
       "      <td>TARAVAL</td>\n",
       "      <td>37.745158</td>\n",
       "      <td>-122.470366</td>\n",
       "    </tr>\n",
       "  </tbody>\n",
       "</table>\n",
       "</div>"
      ],
      "text/plain": [
       "  Incident Date  Incident Time Incident Day of Week Incident Category  \\\n",
       "0    2004-11-22             17               Monday           ROBBERY   \n",
       "1    2005-10-18             20              Tuesday     VEHICLE THEFT   \n",
       "2    2004-02-15              2               Sunday     VEHICLE THEFT   \n",
       "4    2010-11-21             17               Sunday           ASSAULT   \n",
       "5    2013-04-02             15              Tuesday           ASSAULT   \n",
       "\n",
       "    Incident Description Police District   Latitude   Longitude  \n",
       "0  ROBBERY, BODILY FORCE       INGLESIDE  37.708311 -122.420084  \n",
       "1      STOLEN AUTOMOBILE            PARK  90.000000 -120.500000  \n",
       "2      STOLEN AUTOMOBILE        SOUTHERN  90.000000 -120.500000  \n",
       "4                BATTERY        SOUTHERN  37.770913 -122.410541  \n",
       "5                BATTERY         TARAVAL  37.745158 -122.470366  "
      ]
     },
     "execution_count": 2,
     "metadata": {},
     "output_type": "execute_result"
    }
   ],
   "source": [
    "import pandas as pd\n",
    "import matplotlib.pyplot as plt\n",
    "import seaborn as sns\n",
    "import sys\n",
    "\n",
    "# Ensure Python can find clean_crime_data.py (go up one level to Assignment-1/)\n",
    "sys.path.append(\"../Assignment-1/Clean-Crime_Data\")  # ✅ Updated path\n",
    "\n",
    "from clean_crime_data import clean_crime_data  # Import the function\n",
    "\n",
    "# Load the cleaned dataset (go up one level to Assignment-1/Data/)\n",
    "file_path = \"../Assignment-1/Data/SF_Crime_Data_Cleaned.csv\"  # ✅ Updated path\n",
    "df = pd.read_csv(file_path, parse_dates=[\"Incident Date\"])\n",
    "\n",
    "# Clean and filter data using the function\n",
    "df_focus = clean_crime_data(df)\n",
    "\n",
    "# Convert \"Incident Time\" to extract hours\n",
    "df_focus[\"Incident Time\"] = pd.to_datetime(df_focus[\"Incident Time\"], format=\"%H:%M\", errors=\"coerce\").dt.hour\n",
    "\n",
    "# Now df_focus is ready for analysis!\n",
    "print(\"Unique Crime Categories in df_focus:\", df_focus[\"Incident Category\"].unique())  # Check cleaned categories\n",
    "df_focus.head()\n"
   ]
  },
  {
   "cell_type": "markdown",
   "metadata": {},
   "source": [
    "## Year with the most and fewest crime "
   ]
  },
  {
   "cell_type": "code",
   "execution_count": 7,
   "metadata": {},
   "outputs": [
    {
     "name": "stdout",
     "output_type": "stream",
     "text": [
      "📅 Year with the most crimes: 2017 (93149 crimes)\n",
      "📅 Year with the fewest crimes: 2024 (61322 crimes)\n",
      "📅 Crimes in the incomplete year 2025: 5994\n"
     ]
    }
   ],
   "source": [
    "import pandas as pd\n",
    "\n",
    "# Define current year for partial data\n",
    "current_year = 2025\n",
    "\n",
    "# Count crimes per year clearly\n",
    "crimes_per_year = df_focus[\"Incident Date\"].dt.year.value_counts().sort_index()\n",
    "\n",
    "# Crimes in incomplete year 2025\n",
    "crimes_2025 = crimes_per_year.get(current_year, 0)\n",
    "\n",
    "# Year with most crimes (excluding incomplete 2025)\n",
    "year_most_crimes = crimes_per_year[crimes_per_year.index < current_year].idxmax()\n",
    "num_most_crimes = crimes_per_year[year_most_crimes]\n",
    "\n",
    "# Year with fewest crimes (excluding incomplete 2025)\n",
    "year_fewest_crimes = crimes_per_year[crimes_per_year.index < current_year].idxmin()\n",
    "num_fewest_crimes = crimes_per_year[year_fewest_crimes]\n",
    "\n",
    "# Print results clearly\n",
    "print(f\"📅 Year with the most crimes: {year_most_crimes} ({num_most_crimes} crimes)\")\n",
    "print(f\"📅 Year with the fewest crimes: {year_fewest_crimes} ({num_fewest_crimes} crimes)\")\n",
    "\n",
    "# Crimes in 2025 separately\n",
    "crimes_2025 = crimes_per_year.get(current_year, 0)\n",
    "print(f\"📅 Crimes in the incomplete year {current_year}: {crimes_2025}\")\n"
   ]
  }
 ],
 "metadata": {
  "kernelspec": {
   "display_name": "machinelearning",
   "language": "python",
   "name": "python3"
  },
  "language_info": {
   "codemirror_mode": {
    "name": "ipython",
    "version": 3
   },
   "file_extension": ".py",
   "mimetype": "text/x-python",
   "name": "python",
   "nbconvert_exporter": "python",
   "pygments_lexer": "ipython3",
   "version": "3.11.7"
  }
 },
 "nbformat": 4,
 "nbformat_minor": 2
}
